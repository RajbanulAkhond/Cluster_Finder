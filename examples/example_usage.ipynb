{
 "cells": [
  {
   "cell_type": "markdown",
   "metadata": {},
   "source": [
    "# Cluster Finder - Example Usage\n",
    "\n",
    "This notebook demonstrates the basic functionality of the `cluster_finder` package for finding, analyzing, and visualizing atomic clusters in crystal structures."
   ]
  },
  {
   "cell_type": "markdown",
   "metadata": {},
   "source": [
    "## Setup\n",
    "\n",
    "First, let's import the necessary libraries and set up our environment."
   ]
  },
  {
   "cell_type": "code",
   "execution_count": null,
   "metadata": {},
   "outputs": [],
   "source": [
    "import os\n",
    "import sys\n",
    "import numpy as np\n",
    "import matplotlib.pyplot as plt\n",
    "from pymatgen.core.structure import Structure\n",
    "from pymatgen.core.lattice import Lattice\n",
    "\n",
    "# Add parent directory to path so we can import the package\n",
    "sys.path.insert(0, os.path.abspath(os.path.join(os.path.dirname('..'), '..')))\n",
    "\n",
    "import cluster_finder as cf\n",
    "\n",
    "# Configure matplotlib for better visualization\n",
    "%matplotlib inline\n",
    "plt.rcParams['figure.figsize'] = [12, 10]\n",
    "plt.rcParams['figure.dpi'] = 100"
   ]
  },
  {
   "cell_type": "markdown",
   "metadata": {},
   "source": [
    "## 1. Create a Simple Structure\n",
    "\n",
    "Let's create a simple cubic structure with Fe atoms to work with."
   ]
  },
  {
   "cell_type": "code",
   "execution_count": null,
   "metadata": {},
   "outputs": [],
   "source": [
    "def create_simple_structure():\n",
    "    \"\"\"Create a simple cubic structure with Fe atoms.\"\"\"\n",
    "    # Create a simple cubic lattice with Fe atoms\n",
    "    lattice = Lattice.cubic(3.0)  # 3 \u00c5 cube\n",
    "    \n",
    "    # Create a structure with Fe atoms at corners\n",
    "    structure = Structure(\n",
    "        lattice=lattice,\n",
    "        species=['Fe', 'Fe', 'Fe', 'Fe', 'Fe', 'Fe', 'Fe', 'Fe'],\n",
    "        coords=[\n",
    "            [0, 0, 0], [1, 0, 0], [0, 1, 0], [1, 1, 0],\n",
    "            [0, 0, 1], [1, 0, 1], [0, 1, 1], [1, 1, 1]\n",
    "        ],\n",
    "        coords_are_cartesian=False\n",
    "    )\n",
    "    \n",
    "    return structure\n",
    "\n",
    "# Create our structure\n",
    "structure = create_simple_structure()\n",
    "print(f\"Created structure with {len(structure)} sites\")\n",
    "print(f\"Formula: {structure.composition.reduced_formula}\")"
   ]
  },
  {
   "cell_type": "markdown",
   "metadata": {},
   "source": [
    "## 2. Find Clusters\n",
    "\n",
    "Now let's find clusters in our structure using the `cluster_finder` package."
   ]
  },
  {
   "cell_type": "code",
   "execution_count": null,
   "metadata": {},
   "outputs": [],
   "source": [
    "# Define transition metals to search for\n",
    "transition_metals = cf.get_transition_metals()\n",
    "print(f\"Transition metals (first 5): {', '.join(transition_metals[:5])}...\")\n",
    "\n",
    "# Create connectivity matrix\n",
    "connectivity_matrix, tm_indices = cf.create_connectivity_matrix(\n",
    "    structure, \n",
    "    transition_metals,\n",
    "    cutoff=3.5  # Distance cutoff for connectivity\n",
    ")\n",
    "\n",
    "print(f\"Connectivity matrix shape: {connectivity_matrix.shape}\")\n",
    "print(f\"Number of transition metal sites: {len(tm_indices)}\")\n",
    "\n",
    "# Create graph and find clusters\n",
    "graph = cf.structure_to_graph(connectivity_matrix)\n",
    "print(f\"Graph has {graph.number_of_nodes()} nodes and {graph.number_of_edges()} edges\")\n",
    "\n",
    "# Find clusters with minimum size 2\n",
    "clusters = cf.find_clusters(structure, graph, tm_indices, min_cluster_size=2)\n",
    "print(f\"Found {len(clusters)} clusters with minimum size 2\")"
   ]
  },
  {
   "cell_type": "markdown",
   "metadata": {},
   "source": [
    "## 3. Analyze Clusters\n",
    "\n",
    "Let's analyze the clusters we found."
   ]
  },
  {
   "cell_type": "code",
   "execution_count": null,
   "metadata": {},
   "outputs": [],
   "source": [
    "# Analyze clusters\n",
    "analyzed_clusters = cf.analyze_clusters(clusters, structure.lattice)\n",
    "\n",
    "print(\"Cluster details:\")\n",
    "for i, cluster in enumerate(analyzed_clusters):\n",
    "    elements = [site.specie.symbol for site in cluster[\"sites\"]]\n",
    "    print(f\"  Cluster {i+1}: {len(elements)} atoms ({', '.join(elements)}), \"\n",
    "          f\"avg. distance: {cluster['average_distance']:.3f} \u00c5\")\n",
    "\n",
    "# Classify structure dimensionality\n",
    "dimensionality = cf.classify_dimensionality(structure)\n",
    "print(f\"\\nStructure dimensionality: {dimensionality}\")"
   ]
  },
  {
   "cell_type": "markdown",
   "metadata": {},
   "source": [
    "## 4. Visualize Clusters\n",
    "\n",
    "Let's visualize the clusters and connectivity in our structure."
   ]
  },
  {
   "cell_type": "code",
   "execution_count": null,
   "metadata": {},
   "outputs": [],
   "source": [
    "# Visualize connectivity graph\n",
    "plt.figure(figsize=(12, 10))\n",
    "fig1 = cf.visualize_graph(\n",
    "    graph, \n",
    "    structure, \n",
    "    tm_indices, \n",
    "    material_id=\"example\", \n",
    "    formula=structure.composition.reduced_formula\n",
    ")\n",
    "plt.title(\"Connectivity Graph\", fontsize=16)\n",
    "plt.tight_layout()\n",
    "plt.show()"
   ]
  },
  {
   "cell_type": "code",
   "execution_count": null,
   "metadata": {},
   "outputs": [],
   "source": [
    "# Visualize clusters in the compound\n",
    "if analyzed_clusters:\n",
    "    plt.figure(figsize=(12, 10))\n",
    "    fig2 = cf.visualize_clusters_in_compound(structure, analyzed_clusters)\n",
    "    plt.title(\"Clusters in Structure\", fontsize=16)\n",
    "    plt.tight_layout()\n",
    "    plt.show()"
   ]
  },
  {
   "cell_type": "markdown",
   "metadata": {},
   "source": [
    "## 5. Rotate and Visualize Structure\n",
    "\n",
    "Let's visualize the structure with different rotations."
   ]
  },
  {
   "cell_type": "code",
   "execution_count": null,
   "metadata": {},
   "outputs": [],
   "source": [
    "# Create a rotation matrix (45\u00b0 around y-axis)\n",
    "rotation_matrix = cf.generate_rotation_matrix(\n",
    "    axis=np.array([0, 1, 0]),\n",
    "    angle=np.pi/4\n",
    ")\n",
    "\n",
    "plt.figure(figsize=(12, 10))\n",
    "fig3 = cf.visualize_cluster_lattice(structure, rotation_matrix)\n",
    "plt.title(\"Rotated Structure View\", fontsize=16)\n",
    "plt.tight_layout()\n",
    "plt.show()"
   ]
  },
  {
   "cell_type": "markdown",
   "metadata": {},
   "source": [
    "## 6. Export Results\n",
    "\n",
    "Finally, let's export our results to various file formats."
   ]
  },
  {
   "cell_type": "code",
   "execution_count": null,
   "metadata": {},
   "outputs": [],
   "source": [
    "# Create output directory\n",
    "output_dir = \"./output\"\n",
    "os.makedirs(output_dir, exist_ok=True)\n",
    "\n",
    "# Export structure to CIF\n",
    "cif_path = os.path.join(output_dir, \"structure.cif\")\n",
    "cf.export_structure_to_cif(structure, cif_path)\n",
    "print(f\"Exported structure to {cif_path}\")\n",
    "\n",
    "# Generate lattice with clusters\n",
    "if analyzed_clusters:\n",
    "    cluster_structure = cf.generate_lattice_with_clusters(structure, analyzed_clusters)\n",
    "    cluster_cif_path = os.path.join(output_dir, \"cluster_centroids.cif\")\n",
    "    cf.export_structure_to_cif(cluster_structure, cluster_cif_path)\n",
    "    print(f\"Exported cluster centroids structure to {cluster_cif_path}\")"
   ]
  },
  {
   "cell_type": "markdown",
   "metadata": {},
   "source": [
    "## Conclusion\n",
    "\n",
    "This notebook demonstrated the basic functionality of the `cluster_finder` package. We:\n",
    "1. Created a simple structure\n",
    "2. Found and analyzed clusters\n",
    "3. Visualized the clusters and connectivity\n",
    "4. Exported the results to files\n",
    "\n",
    "For more advanced functionality, refer to the comprehensive `example_usage.py` script and the package documentation."
   ]
  }
 ],
 "metadata": {
  "kernelspec": {
   "display_name": "Python 3",
   "language": "python",
   "name": "python3"
  },
  "language_info": {
   "codemirror_mode": {
    "name": "ipython",
    "version": 3
   },
   "file_extension": ".py",
   "mimetype": "text/x-python",
   "name": "python",
   "nbconvert_exporter": "python",
   "pygments_lexer": "ipython3",
   "version": "3.9.7"
  }
 },
 "nbformat": 4,
 "nbformat_minor": 4
}